{
  "nbformat": 4,
  "nbformat_minor": 0,
  "metadata": {
    "colab": {
      "provenance": [],
      "authorship_tag": "ABX9TyNz1/oV/XL9GCyHfVVzuVAV",
      "include_colab_link": true
    },
    "kernelspec": {
      "name": "python3",
      "display_name": "Python 3"
    },
    "language_info": {
      "name": "python"
    }
  },
  "cells": [
    {
      "cell_type": "markdown",
      "metadata": {
        "id": "view-in-github",
        "colab_type": "text"
      },
      "source": [
        "<a href=\"https://colab.research.google.com/github/Yank224/Proyecto/blob/yan/Practica_semana_11__taller.ipynb\" target=\"_parent\"><img src=\"https://colab.research.google.com/assets/colab-badge.svg\" alt=\"Open In Colab\"/></a>"
      ]
    },
    {
      "cell_type": "markdown",
      "source": [
        "# Debe crear una clase padre (con al menos 4 propiedades) y una clase hija por cada perfil requerido. Debe crear las funciones __init__ y __str__ tanto en la clase padre como en las clases hijas."
      ],
      "metadata": {
        "id": "u8cXmkixkwRC"
      }
    },
    {
      "cell_type": "code",
      "execution_count": null,
      "metadata": {
        "colab": {
          "base_uri": "https://localhost:8080/"
        },
        "id": "70XihNcykmoq",
        "outputId": "7390a40d-9173-461e-939c-774319c35505"
      },
      "outputs": [
        {
          "output_type": "stream",
          "name": "stdout",
          "text": [
            "<class '__main__.padre'>\n"
          ]
        }
      ],
      "source": [
        "class padre:\n",
        "  def __init__(self, nombre,edad,nacionalidad, estado_civil):\n",
        "    self.nombre = nombre\n",
        "    self.edad = edad\n",
        "    self.nacionalidad = nacionalidad\n",
        "    self.Estado_civil = estado_civil\n",
        "padre1= padre(\"mario\", 34, \"CR\", \"Casado\")\n"
      ]
    }
  ]
}